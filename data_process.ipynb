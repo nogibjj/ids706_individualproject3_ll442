{
 "cells": [
  {
   "cell_type": "code",
   "execution_count": 0,
   "metadata": {
    "application/vnd.databricks.v1+cell": {
     "cellMetadata": {
      "byteLimit": 2048000,
      "rowLimit": 10000
     },
     "inputWidgets": {},
     "nuid": "78dd823b-dbe6-464e-8dd5-390c45632dbc",
     "showTitle": false,
     "title": ""
    }
   },
   "outputs": [],
   "source": [
    "%python\n",
    "from pyspark.sql import SparkSession\n",
    "from pyspark.sql.functions import regexp_replace, col\n",
    "import pyspark.sql.functions as F\n",
    "from collections import defaultdict\n",
    "import matplotlib.pyplot as plt"
   ]
  },
  {
   "cell_type": "code",
   "execution_count": 0,
   "metadata": {
    "application/vnd.databricks.v1+cell": {
     "cellMetadata": {
      "byteLimit": 2048000,
      "rowLimit": 10000
     },
     "inputWidgets": {},
     "nuid": "6c9ce32b-13a7-47d7-b9ba-e1d1d9342408",
     "showTitle": false,
     "title": ""
    }
   },
   "outputs": [
    {
     "output_type": "execute_result",
     "data": {
      "text/plain": [
       "Row(Area='North Carolina', Time Period='2022', Occupation='Management', Occupation Code='110000', Industry='Total, All Industries', Employment='285,550', 10th %='$52,280', 25th %='$75,480', Entry level='$60,590', Median='$104,240', Mean='$126,640', Experienced='$159,180', 75th %='$158,220', 90th %='$208,000')"
      ]
     },
     "execution_count": 13,
     "metadata": {},
     "output_type": "execute_result"
    }
   ],
   "source": [
    "%python\n",
    "## step1: extract data from dbfs with spark\n",
    "# Start a Spark session\n",
    "try:\n",
    "    spark = SparkSession.builder.appName(\"CSVIngestion\").getOrCreate()\n",
    "    # Read CSV file\n",
    "    df = spark.read.format(\"csv\").\\\n",
    "    option(\"header\", \"true\").\\\n",
    "    load(\"dbfs:/FileStore/shared_uploads/linkekk@ad.unc.edu/OccupationalEmploymentandWageStatistics_final.csv\")  \n",
    "    # Show the first few rows of the DataFrame\n",
    "    df.head()\n",
    "    # Transform to data table\n",
    "    df.createOrReplaceTempView(\"kk_table\")\n",
    "    result = spark.sql(\"SELECT * FROM kk_table WHERE Occupation = 'Legal'\")\n",
    "    result.show()\n",
    "except Exception as e:\n",
    "    print(f'Error during data extraction:{e}')\n"
   ]
  },
  {
   "cell_type": "code",
   "execution_count": 0,
   "metadata": {
    "application/vnd.databricks.v1+cell": {
     "cellMetadata": {
      "byteLimit": 2048000,
      "rowLimit": 10000
     },
     "inputWidgets": {},
     "nuid": "e940ce77-860e-43bf-810b-eb4eaf651463",
     "showTitle": false,
     "title": ""
    }
   },
   "outputs": [
    {
     "output_type": "stream",
     "name": "stdout",
     "output_type": "stream",
     "text": [
      "+--------------+-----------+----------+---------------+--------------------+----------+-------+-------+-----------+-------+--------+-----------+--------+--------+\n|          Area|Time Period|Occupation|Occupation Code|            Industry|Employment| 10th %| 25th %|Entry level| Median|    Mean|Experienced|  75th %|  90th %|\n+--------------+-----------+----------+---------------+--------------------+----------+-------+-------+-----------+-------+--------+-----------+--------+--------+\n|North Carolina|       2022|     Legal|         230000|Total, All Indust...|    28,060|$38,750|$50,190|    $43,580|$70,520|$102,780|   $131,940|$127,350|$208,000|\n+--------------+-----------+----------+---------------+--------------------+----------+-------+-------+-----------+-------+--------+-----------+--------+--------+\n\n"
     ]
    },
    {
     "output_type": "display_data",
     "data": {
      "text/html": [
       "<style scoped>\n",
       "  .table-result-container {\n",
       "    max-height: 300px;\n",
       "    overflow: auto;\n",
       "  }\n",
       "  table, th, td {\n",
       "    border: 1px solid black;\n",
       "    border-collapse: collapse;\n",
       "  }\n",
       "  th, td {\n",
       "    padding: 5px;\n",
       "  }\n",
       "  th {\n",
       "    text-align: left;\n",
       "  }\n",
       "</style><div class='table-result-container'><table class='table-result'><thead style='background-color: white'><tr><th>Area</th><th>TimePeriod</th><th>Occupation</th><th>OccupationCode</th><th>Industry</th><th>Employment</th><th>10th</th><th>25th</th><th>EntryLevel</th><th>Median</th><th>Mean</th><th>Experienced</th><th>75th</th><th>90th</th></tr></thead><tbody><tr><td>North Carolina</td><td>2022</td><td>Management</td><td>110000</td><td>Total, All Industries</td><td>285,550</td><td>52280</td><td>75480</td><td>60590</td><td>104240</td><td>126640</td><td>159180</td><td>158220</td><td>208000</td></tr><tr><td>North Carolina</td><td>2022</td><td>Business and Financial Operations</td><td>130000</td><td>Total, All Industries</td><td>302,740</td><td>41600</td><td>53990</td><td>46310</td><td>74530</td><td>82730</td><td>100670</td><td>100330</td><td>132610</td></tr><tr><td>North Carolina</td><td>2022</td><td>Computer and Mathematical</td><td>150000</td><td>Total, All Industries</td><td>172,210</td><td>49880</td><td>68990</td><td>57450</td><td>102370</td><td>104530</td><td>127710</td><td>133200</td><td>164980</td></tr><tr><td>North Carolina</td><td>2022</td><td>Architecture and Engineering</td><td>170000</td><td>Total, All Industries</td><td>68,190</td><td>46350</td><td>60940</td><td>51120</td><td>79560</td><td>85090</td><td>101820</td><td>102170</td><td>130970</td></tr><tr><td>North Carolina</td><td>2022</td><td>Life, Physical, and Social Science</td><td>190000</td><td>Total, All Industries</td><td>41,840</td><td>38800</td><td>50010</td><td>43640</td><td>64470</td><td>74320</td><td>89440</td><td>86070</td><td>120640</td></tr><tr><td>North Carolina</td><td>2022</td><td>Community and Social Service</td><td>210000</td><td>Total, All Industries</td><td>57,300</td><td>31670</td><td>39000</td><td>34470</td><td>48190</td><td>51620</td><td>60060</td><td>59830</td><td>73060</td></tr><tr><td>North Carolina</td><td>2022</td><td>Legal</td><td>230000</td><td>Total, All Industries</td><td>28,060</td><td>38750</td><td>50190</td><td>43580</td><td>70520</td><td>102780</td><td>131940</td><td>127350</td><td>208000</td></tr><tr><td>North Carolina</td><td>2022</td><td>Educational Instruction and Library</td><td>250000</td><td>Total, All Industries</td><td>268,980</td><td>23850</td><td>32780</td><td>28260</td><td>47920</td><td>52930</td><td>65080</td><td>60130</td><td>78700</td></tr><tr><td>North Carolina</td><td>2022</td><td>Arts, Design, Entertainment, Sports, and Media</td><td>270000</td><td>Total, All Industries</td><td>48,910</td><td>28700</td><td>36490</td><td>31130</td><td>51640</td><td>66670</td><td>84180</td><td>76260</td><td>105690</td></tr><tr><td>North Carolina</td><td>2022</td><td>Healthcare Practitioners and Technical</td><td>290000</td><td>Total, All Industries</td><td>297,090</td><td>36990</td><td>50300</td><td>42940</td><td>66650</td><td>87180</td><td>108970</td><td>95280</td><td>138150</td></tr></tbody></table></div>"
      ]
     },
     "metadata": {
      "application/vnd.databricks.v1+output": {
       "addedWidgets": {},
       "aggData": [],
       "aggError": "",
       "aggOverflow": false,
       "aggSchema": [],
       "aggSeriesLimitReached": false,
       "aggType": "",
       "arguments": {},
       "columnCustomDisplayInfos": {},
       "data": [
        [
         "North Carolina",
         "2022",
         "Management",
         "110000",
         "Total, All Industries",
         "285,550",
         52280,
         75480,
         60590,
         104240,
         126640,
         159180,
         158220,
         208000
        ],
        [
         "North Carolina",
         "2022",
         "Business and Financial Operations",
         "130000",
         "Total, All Industries",
         "302,740",
         41600,
         53990,
         46310,
         74530,
         82730,
         100670,
         100330,
         132610
        ],
        [
         "North Carolina",
         "2022",
         "Computer and Mathematical",
         "150000",
         "Total, All Industries",
         "172,210",
         49880,
         68990,
         57450,
         102370,
         104530,
         127710,
         133200,
         164980
        ],
        [
         "North Carolina",
         "2022",
         "Architecture and Engineering",
         "170000",
         "Total, All Industries",
         "68,190",
         46350,
         60940,
         51120,
         79560,
         85090,
         101820,
         102170,
         130970
        ],
        [
         "North Carolina",
         "2022",
         "Life, Physical, and Social Science",
         "190000",
         "Total, All Industries",
         "41,840",
         38800,
         50010,
         43640,
         64470,
         74320,
         89440,
         86070,
         120640
        ],
        [
         "North Carolina",
         "2022",
         "Community and Social Service",
         "210000",
         "Total, All Industries",
         "57,300",
         31670,
         39000,
         34470,
         48190,
         51620,
         60060,
         59830,
         73060
        ],
        [
         "North Carolina",
         "2022",
         "Legal",
         "230000",
         "Total, All Industries",
         "28,060",
         38750,
         50190,
         43580,
         70520,
         102780,
         131940,
         127350,
         208000
        ],
        [
         "North Carolina",
         "2022",
         "Educational Instruction and Library",
         "250000",
         "Total, All Industries",
         "268,980",
         23850,
         32780,
         28260,
         47920,
         52930,
         65080,
         60130,
         78700
        ],
        [
         "North Carolina",
         "2022",
         "Arts, Design, Entertainment, Sports, and Media",
         "270000",
         "Total, All Industries",
         "48,910",
         28700,
         36490,
         31130,
         51640,
         66670,
         84180,
         76260,
         105690
        ],
        [
         "North Carolina",
         "2022",
         "Healthcare Practitioners and Technical",
         "290000",
         "Total, All Industries",
         "297,090",
         36990,
         50300,
         42940,
         66650,
         87180,
         108970,
         95280,
         138150
        ]
       ],
       "datasetInfos": [],
       "dbfsResultPath": null,
       "isJsonSchema": true,
       "metadata": {},
       "overflow": false,
       "plotOptions": {
        "customPlotOptions": {},
        "displayType": "table",
        "pivotAggregation": null,
        "pivotColumns": null,
        "xColumns": null,
        "yColumns": null
       },
       "removedWidgets": [],
       "schema": [
        {
         "metadata": "{}",
         "name": "Area",
         "type": "\"string\""
        },
        {
         "metadata": "{}",
         "name": "TimePeriod",
         "type": "\"string\""
        },
        {
         "metadata": "{}",
         "name": "Occupation",
         "type": "\"string\""
        },
        {
         "metadata": "{}",
         "name": "OccupationCode",
         "type": "\"string\""
        },
        {
         "metadata": "{}",
         "name": "Industry",
         "type": "\"string\""
        },
        {
         "metadata": "{}",
         "name": "Employment",
         "type": "\"string\""
        },
        {
         "metadata": "{}",
         "name": "10th",
         "type": "\"integer\""
        },
        {
         "metadata": "{}",
         "name": "25th",
         "type": "\"integer\""
        },
        {
         "metadata": "{}",
         "name": "EntryLevel",
         "type": "\"integer\""
        },
        {
         "metadata": "{}",
         "name": "Median",
         "type": "\"integer\""
        },
        {
         "metadata": "{}",
         "name": "Mean",
         "type": "\"integer\""
        },
        {
         "metadata": "{}",
         "name": "Experienced",
         "type": "\"integer\""
        },
        {
         "metadata": "{}",
         "name": "75th",
         "type": "\"integer\""
        },
        {
         "metadata": "{}",
         "name": "90th",
         "type": "\"integer\""
        }
       ],
       "type": "table"
      }
     },
     "output_type": "display_data"
    }
   ],
   "source": [
    "%python\n",
    "## step2: Transform Data extracted from source file\n",
    "# preprocess the data table\n",
    "# 1. delete the characters in string and convert to integer\n",
    "try:\n",
    "    myHash = defaultdict(list)\n",
    "\n",
    "    columns = ['10th %', '25th %', 'Entry level', 'Median', 'Mean', 'Experienced', \\\n",
    "    '75th %', '90th %']\n",
    "\n",
    "    for column in columns:\n",
    "        df = df.withColumn(column, regexp_replace(col(column), \"[\\$,]\", \"\").cast(\"integer\"))\n",
    "\n",
    "except Exception as e:\n",
    "    print(f'Error during characters deletion:{e}')\n",
    "\n",
    "# 2. rename the table header\n",
    "# Renaming columns\n",
    "try:\n",
    "    new_column_names = ['Area', 'TimePeriod', 'Occupation','OccupationCode','Industry','Employment','10th','25th','EntryLevel','Median','Mean','Experienced','75th','90th']  # List your new column names here\n",
    "\n",
    "    for old_name, new_name in zip(df.columns, new_column_names):\n",
    "        df = df.withColumnRenamed(old_name, new_name)\n",
    "    \n",
    "    display(df.limit(10))\n",
    "\n",
    "except Exception as e:\n",
    "    print(f'Error during column renaming:{e}')"
   ]
  },
  {
   "cell_type": "code",
   "execution_count": 0,
   "metadata": {
    "application/vnd.databricks.v1+cell": {
     "cellMetadata": {
      "byteLimit": 2048000,
      "rowLimit": 10000
     },
     "inputWidgets": {},
     "nuid": "b53019d0-2106-4d05-b529-d74441ee7ffe",
     "showTitle": false,
     "title": ""
    }
   },
   "outputs": [],
   "source": [
    "%python\n",
    "## Step3: Load Operation: Load Data to Delta Lake\n",
    "try:\n",
    "    df.write.format(\"delta\").mode(\"overwrite\").saveAsTable(\"ncemployment\")\n",
    "except Exception as e:\n",
    "    print(f\"Error During loading result to Delta Lake:{e}\")"
   ]
  },
  {
   "cell_type": "code",
   "execution_count": 0,
   "metadata": {
    "application/vnd.databricks.v1+cell": {
     "cellMetadata": {
      "byteLimit": 2048000,
      "implicitDf": true,
      "rowLimit": 10000
     },
     "inputWidgets": {},
     "nuid": "cb5abc02-a25e-466b-a302-6673cc384ec8",
     "showTitle": false,
     "title": ""
    }
   },
   "outputs": [
    {
     "output_type": "display_data",
     "data": {
      "text/html": [
       "<style scoped>\n",
       "  .table-result-container {\n",
       "    max-height: 300px;\n",
       "    overflow: auto;\n",
       "  }\n",
       "  table, th, td {\n",
       "    border: 1px solid black;\n",
       "    border-collapse: collapse;\n",
       "  }\n",
       "  th, td {\n",
       "    padding: 5px;\n",
       "  }\n",
       "  th {\n",
       "    text-align: left;\n",
       "  }\n",
       "</style><div class='table-result-container'><table class='table-result'><thead style='background-color: white'><tr><th>Area</th><th>TimePeriod</th><th>Occupation</th><th>OccupationCode</th><th>Industry</th><th>Employment</th><th>10th</th><th>25th</th><th>EntryLevel</th><th>Median</th><th>Mean</th><th>Experienced</th><th>75th</th><th>90th</th></tr></thead><tbody><tr><td>North Carolina</td><td>2022</td><td>Management</td><td>110000</td><td>Total, All Industries</td><td>285,550</td><td>52280</td><td>75480</td><td>60590</td><td>104240</td><td>126640</td><td>159180</td><td>158220</td><td>208000</td></tr><tr><td>North Carolina</td><td>2022</td><td>Business and Financial Operations</td><td>130000</td><td>Total, All Industries</td><td>302,740</td><td>41600</td><td>53990</td><td>46310</td><td>74530</td><td>82730</td><td>100670</td><td>100330</td><td>132610</td></tr><tr><td>North Carolina</td><td>2022</td><td>Computer and Mathematical</td><td>150000</td><td>Total, All Industries</td><td>172,210</td><td>49880</td><td>68990</td><td>57450</td><td>102370</td><td>104530</td><td>127710</td><td>133200</td><td>164980</td></tr><tr><td>North Carolina</td><td>2022</td><td>Architecture and Engineering</td><td>170000</td><td>Total, All Industries</td><td>68,190</td><td>46350</td><td>60940</td><td>51120</td><td>79560</td><td>85090</td><td>101820</td><td>102170</td><td>130970</td></tr><tr><td>North Carolina</td><td>2022</td><td>Life, Physical, and Social Science</td><td>190000</td><td>Total, All Industries</td><td>41,840</td><td>38800</td><td>50010</td><td>43640</td><td>64470</td><td>74320</td><td>89440</td><td>86070</td><td>120640</td></tr><tr><td>North Carolina</td><td>2022</td><td>Community and Social Service</td><td>210000</td><td>Total, All Industries</td><td>57,300</td><td>31670</td><td>39000</td><td>34470</td><td>48190</td><td>51620</td><td>60060</td><td>59830</td><td>73060</td></tr><tr><td>North Carolina</td><td>2022</td><td>Legal</td><td>230000</td><td>Total, All Industries</td><td>28,060</td><td>38750</td><td>50190</td><td>43580</td><td>70520</td><td>102780</td><td>131940</td><td>127350</td><td>208000</td></tr><tr><td>North Carolina</td><td>2022</td><td>Educational Instruction and Library</td><td>250000</td><td>Total, All Industries</td><td>268,980</td><td>23850</td><td>32780</td><td>28260</td><td>47920</td><td>52930</td><td>65080</td><td>60130</td><td>78700</td></tr><tr><td>North Carolina</td><td>2022</td><td>Arts, Design, Entertainment, Sports, and Media</td><td>270000</td><td>Total, All Industries</td><td>48,910</td><td>28700</td><td>36490</td><td>31130</td><td>51640</td><td>66670</td><td>84180</td><td>76260</td><td>105690</td></tr><tr><td>North Carolina</td><td>2022</td><td>Healthcare Practitioners and Technical</td><td>290000</td><td>Total, All Industries</td><td>297,090</td><td>36990</td><td>50300</td><td>42940</td><td>66650</td><td>87180</td><td>108970</td><td>95280</td><td>138150</td></tr><tr><td>North Carolina</td><td>2022</td><td>Healthcare Support</td><td>310000</td><td>Total, All Industries</td><td>172,820</td><td>22030</td><td>25680</td><td>23370</td><td>31500</td><td>33240</td><td>38110</td><td>37460</td><td>45870</td></tr><tr><td>North Carolina</td><td>2022</td><td>Protective Service</td><td>330000</td><td>Total, All Industries</td><td>102,500</td><td>24050</td><td>29280</td><td>26320</td><td>38360</td><td>42860</td><td>51010</td><td>49920</td><td>66780</td></tr><tr><td>North Carolina</td><td>2022</td><td>Food Preparation and Serving Related</td><td>350000</td><td>Total, All Industries</td><td>403,490</td><td>18120</td><td>21200</td><td>19400</td><td>26100</td><td>28190</td><td>32520</td><td>30870</td><td>41480</td></tr><tr><td>North Carolina</td><td>2022</td><td>Building and Grounds Cleaning and Maintenance</td><td>370000</td><td>Total, All Industries</td><td>128,200</td><td>21800</td><td>24700</td><td>22980</td><td>29390</td><td>31760</td><td>36090</td><td>35280</td><td>44780</td></tr><tr><td>North Carolina</td><td>2022</td><td>Personal Care and Service</td><td>390000</td><td>Total, All Industries</td><td>78,330</td><td>19880</td><td>22290</td><td>20670</td><td>28560</td><td>33440</td><td>39730</td><td>37480</td><td>53960</td></tr><tr><td>North Carolina</td><td>2022</td><td>Sales and Related</td><td>410000</td><td>Total, All Industries</td><td>466,980</td><td>21300</td><td>24520</td><td>22410</td><td>32380</td><td>47660</td><td>60090</td><td>53340</td><td>91300</td></tr><tr><td>North Carolina</td><td>2022</td><td>Office and Administrative Support</td><td>430000</td><td>Total, All Industries</td><td>557,290</td><td>26860</td><td>31730</td><td>28320</td><td>38370</td><td>41880</td><td>48570</td><td>48460</td><td>61650</td></tr><tr><td>North Carolina</td><td>2022</td><td>Farming, Fishing, and Forestry</td><td>450000</td><td>Total, All Industries</td><td>7,300</td><td>23140</td><td>29170</td><td>25440</td><td>35500</td><td>38270</td><td>44590</td><td>45290</td><td>57200</td></tr><tr><td>North Carolina</td><td>2022</td><td>Construction and Extraction</td><td>470000</td><td>Total, All Industries</td><td>184,660</td><td>30710</td><td>36620</td><td>32900</td><td>45330</td><td>47720</td><td>55020</td><td>55480</td><td>69240</td></tr><tr><td>North Carolina</td><td>2022</td><td>Installation, Maintenance, and Repair</td><td>490000</td><td>Total, All Industries</td><td>192,530</td><td>30010</td><td>37600</td><td>32990</td><td>48420</td><td>52160</td><td>61600</td><td>62270</td><td>78280</td></tr><tr><td>North Carolina</td><td>2022</td><td>Production</td><td>510000</td><td>Total, All Industries</td><td>326,780</td><td>26390</td><td>30730</td><td>27670</td><td>37270</td><td>41140</td><td>47770</td><td>47680</td><td>61430</td></tr><tr><td>North Carolina</td><td>2022</td><td>Transportation and Material Moving</td><td>530000</td><td>Total, All Industries</td><td>455,770</td><td>23250</td><td>29010</td><td>25520</td><td>34600</td><td>38520</td><td>44920</td><td>43840</td><td>57610</td></tr></tbody></table></div>"
      ]
     },
     "metadata": {
      "application/vnd.databricks.v1+output": {
       "addedWidgets": {},
       "aggData": [],
       "aggError": "",
       "aggOverflow": false,
       "aggSchema": [],
       "aggSeriesLimitReached": false,
       "aggType": "",
       "arguments": {},
       "columnCustomDisplayInfos": {},
       "data": [
        [
         "North Carolina",
         "2022",
         "Management",
         "110000",
         "Total, All Industries",
         "285,550",
         52280,
         75480,
         60590,
         104240,
         126640,
         159180,
         158220,
         208000
        ],
        [
         "North Carolina",
         "2022",
         "Business and Financial Operations",
         "130000",
         "Total, All Industries",
         "302,740",
         41600,
         53990,
         46310,
         74530,
         82730,
         100670,
         100330,
         132610
        ],
        [
         "North Carolina",
         "2022",
         "Computer and Mathematical",
         "150000",
         "Total, All Industries",
         "172,210",
         49880,
         68990,
         57450,
         102370,
         104530,
         127710,
         133200,
         164980
        ],
        [
         "North Carolina",
         "2022",
         "Architecture and Engineering",
         "170000",
         "Total, All Industries",
         "68,190",
         46350,
         60940,
         51120,
         79560,
         85090,
         101820,
         102170,
         130970
        ],
        [
         "North Carolina",
         "2022",
         "Life, Physical, and Social Science",
         "190000",
         "Total, All Industries",
         "41,840",
         38800,
         50010,
         43640,
         64470,
         74320,
         89440,
         86070,
         120640
        ],
        [
         "North Carolina",
         "2022",
         "Community and Social Service",
         "210000",
         "Total, All Industries",
         "57,300",
         31670,
         39000,
         34470,
         48190,
         51620,
         60060,
         59830,
         73060
        ],
        [
         "North Carolina",
         "2022",
         "Legal",
         "230000",
         "Total, All Industries",
         "28,060",
         38750,
         50190,
         43580,
         70520,
         102780,
         131940,
         127350,
         208000
        ],
        [
         "North Carolina",
         "2022",
         "Educational Instruction and Library",
         "250000",
         "Total, All Industries",
         "268,980",
         23850,
         32780,
         28260,
         47920,
         52930,
         65080,
         60130,
         78700
        ],
        [
         "North Carolina",
         "2022",
         "Arts, Design, Entertainment, Sports, and Media",
         "270000",
         "Total, All Industries",
         "48,910",
         28700,
         36490,
         31130,
         51640,
         66670,
         84180,
         76260,
         105690
        ],
        [
         "North Carolina",
         "2022",
         "Healthcare Practitioners and Technical",
         "290000",
         "Total, All Industries",
         "297,090",
         36990,
         50300,
         42940,
         66650,
         87180,
         108970,
         95280,
         138150
        ],
        [
         "North Carolina",
         "2022",
         "Healthcare Support",
         "310000",
         "Total, All Industries",
         "172,820",
         22030,
         25680,
         23370,
         31500,
         33240,
         38110,
         37460,
         45870
        ],
        [
         "North Carolina",
         "2022",
         "Protective Service",
         "330000",
         "Total, All Industries",
         "102,500",
         24050,
         29280,
         26320,
         38360,
         42860,
         51010,
         49920,
         66780
        ],
        [
         "North Carolina",
         "2022",
         "Food Preparation and Serving Related",
         "350000",
         "Total, All Industries",
         "403,490",
         18120,
         21200,
         19400,
         26100,
         28190,
         32520,
         30870,
         41480
        ],
        [
         "North Carolina",
         "2022",
         "Building and Grounds Cleaning and Maintenance",
         "370000",
         "Total, All Industries",
         "128,200",
         21800,
         24700,
         22980,
         29390,
         31760,
         36090,
         35280,
         44780
        ],
        [
         "North Carolina",
         "2022",
         "Personal Care and Service",
         "390000",
         "Total, All Industries",
         "78,330",
         19880,
         22290,
         20670,
         28560,
         33440,
         39730,
         37480,
         53960
        ],
        [
         "North Carolina",
         "2022",
         "Sales and Related",
         "410000",
         "Total, All Industries",
         "466,980",
         21300,
         24520,
         22410,
         32380,
         47660,
         60090,
         53340,
         91300
        ],
        [
         "North Carolina",
         "2022",
         "Office and Administrative Support",
         "430000",
         "Total, All Industries",
         "557,290",
         26860,
         31730,
         28320,
         38370,
         41880,
         48570,
         48460,
         61650
        ],
        [
         "North Carolina",
         "2022",
         "Farming, Fishing, and Forestry",
         "450000",
         "Total, All Industries",
         "7,300",
         23140,
         29170,
         25440,
         35500,
         38270,
         44590,
         45290,
         57200
        ],
        [
         "North Carolina",
         "2022",
         "Construction and Extraction",
         "470000",
         "Total, All Industries",
         "184,660",
         30710,
         36620,
         32900,
         45330,
         47720,
         55020,
         55480,
         69240
        ],
        [
         "North Carolina",
         "2022",
         "Installation, Maintenance, and Repair",
         "490000",
         "Total, All Industries",
         "192,530",
         30010,
         37600,
         32990,
         48420,
         52160,
         61600,
         62270,
         78280
        ],
        [
         "North Carolina",
         "2022",
         "Production",
         "510000",
         "Total, All Industries",
         "326,780",
         26390,
         30730,
         27670,
         37270,
         41140,
         47770,
         47680,
         61430
        ],
        [
         "North Carolina",
         "2022",
         "Transportation and Material Moving",
         "530000",
         "Total, All Industries",
         "455,770",
         23250,
         29010,
         25520,
         34600,
         38520,
         44920,
         43840,
         57610
        ]
       ],
       "datasetInfos": [],
       "dbfsResultPath": null,
       "isJsonSchema": true,
       "metadata": {
        "dataframeName": "_sqldf",
        "executionCount": 23
       },
       "overflow": false,
       "plotOptions": {
        "customPlotOptions": {},
        "displayType": "table",
        "pivotAggregation": null,
        "pivotColumns": null,
        "xColumns": null,
        "yColumns": null
       },
       "removedWidgets": [],
       "schema": [
        {
         "metadata": "{}",
         "name": "Area",
         "type": "\"string\""
        },
        {
         "metadata": "{}",
         "name": "TimePeriod",
         "type": "\"string\""
        },
        {
         "metadata": "{}",
         "name": "Occupation",
         "type": "\"string\""
        },
        {
         "metadata": "{}",
         "name": "OccupationCode",
         "type": "\"string\""
        },
        {
         "metadata": "{}",
         "name": "Industry",
         "type": "\"string\""
        },
        {
         "metadata": "{}",
         "name": "Employment",
         "type": "\"string\""
        },
        {
         "metadata": "{}",
         "name": "10th",
         "type": "\"integer\""
        },
        {
         "metadata": "{}",
         "name": "25th",
         "type": "\"integer\""
        },
        {
         "metadata": "{}",
         "name": "EntryLevel",
         "type": "\"integer\""
        },
        {
         "metadata": "{}",
         "name": "Median",
         "type": "\"integer\""
        },
        {
         "metadata": "{}",
         "name": "Mean",
         "type": "\"integer\""
        },
        {
         "metadata": "{}",
         "name": "Experienced",
         "type": "\"integer\""
        },
        {
         "metadata": "{}",
         "name": "75th",
         "type": "\"integer\""
        },
        {
         "metadata": "{}",
         "name": "90th",
         "type": "\"integer\""
        }
       ],
       "type": "table"
      }
     },
     "output_type": "display_data"
    }
   ],
   "source": [
    "%sql\n",
    "SELECT * FROM ncemployment\n"
   ]
  },
  {
   "cell_type": "code",
   "execution_count": 0,
   "metadata": {
    "application/vnd.databricks.v1+cell": {
     "cellMetadata": {
      "byteLimit": 2048000,
      "rowLimit": 10000
     },
     "inputWidgets": {},
     "nuid": "c2b1e5ea-0525-49ce-a1a9-ce80e220640d",
     "showTitle": false,
     "title": ""
    }
   },
   "outputs": [],
   "source": [
    "%python\n",
    "## step4: Data Validation\n",
    "# load delta data table\n",
    "# delta_table_path = \"dbfs:/user/hive/warehouse/ncemployment\"  \n",
    "# ncemployment = spark.read.format(\"delta\").load(delta_table_path)\n",
    "# ncemployment = spark.sql(\"SELECT * FROM ncemployment\")\n",
    "# check if certain column is NULL\n",
    "try:\n",
    "    if ncemployment.filter((col(\"OccupationCode\").isNull())|(col(\"Occupation\").isNull())).count() > 0:\n",
    "        raise ValueError(\"Invalid cell: Table contains NULL values\")\n",
    "    if ncemployment.filter((col(\"10th\")<0)|(col(\"10th\")<0)|(col(\"25th\")<0)|(col(\"EntryLevel\")<0)|(col(\"Median\")<0)|(col(\"Mean\")<0)|(col(\"Experienced\")<0)|(col(\"75th\")<0)|(col(\"90th\")<0)).count() > 0:\n",
    "        raise ValueError(\"Invalid cell: Table contains invalid negative values\")\n",
    "except ValueError as ve:\n",
    "    print(\"Data Invalidation Error:\",ve)\n"
   ]
  },
  {
   "cell_type": "code",
   "execution_count": 0,
   "metadata": {
    "application/vnd.databricks.v1+cell": {
     "cellMetadata": {
      "byteLimit": 2048000,
      "rowLimit": 10000
     },
     "inputWidgets": {},
     "nuid": "cb8c98ff-e3b9-448b-9d0a-6b4197b13908",
     "showTitle": false,
     "title": ""
    }
   },
   "outputs": [],
   "source": [
    "%python\n",
    "## step 5: Data Visualization\n",
    "# 1. Analyze the data and store the result(max, min, mean value) in hash table\n",
    "myHash = defaultdict(list)\n",
    "meanHash = defaultdict()\n",
    "maxHash = defaultdict()\n",
    "minHash = defaultdict()\n",
    "\n",
    "columns = ['10th', '25th', 'EntryLevel', 'Median', 'Mean', 'Experienced', \\\n",
    "'75th', '90th']\n",
    "\n",
    "for column in columns:\n",
    "    meanHash[column] = ncemployment.select(F.mean(col(column))).first()[0]\n",
    "    maxHash[column] = ncemployment.select(F.max(col(column))).first()[0]\n",
    "    minHash[column] = ncemployment.select(F.min(col(column))).first()[0]\n",
    "\n",
    "# print(myHash)\n",
    "print(\"Mean Value information\")\n",
    "print(meanHash)\n",
    "print(\"Max Value information\")\n",
    "print(maxHash)\n",
    "print(\"Min Value information\")\n",
    "print(minHash)\n",
    "\n",
    "# 2. plot the analysis result\n",
    "# Function to plot a histogram\n",
    "def plot_histogram(data, title, ax):\n",
    "    ax.bar(data.keys(), data.values())\n",
    "    ax.set_title(title)\n",
    "    ax.set_xlabel('Categories')\n",
    "    ax.set_ylabel('Values')\n",
    "    ax.tick_params(axis='x', rotation=45)\n",
    "\n",
    "# Create subplots\n",
    "fig, axes = plt.subplots(nrows=1, ncols=3, figsize=(18, 6))\n",
    "\n",
    "# Plot each histogram\n",
    "plot_histogram(meanHash, 'Mean Values', axes[0])\n",
    "plot_histogram(maxHash, 'Max Values', axes[1])\n",
    "plot_histogram(minHash, 'Min Values', axes[2])\n",
    "\n",
    "# Adjust layout\n",
    "plt.tight_layout()\n",
    "\n",
    "# Show the plot\n",
    "plt.show()"
   ]
  }
 ],
 "metadata": {
  "application/vnd.databricks.v1+notebook": {
   "dashboards": [],
   "language": "python",
   "notebookMetadata": {
    "mostRecentlyExecutedCommandWithImplicitDF": {
     "commandId": 1606347268235311,
     "dataframes": [
      "_sqldf"
     ]
    },
    "pythonIndentUnit": 4
   },
   "notebookName": "Untitled Notebook 2023-11-27 12:37:20",
   "widgets": {}
  }
 },
 "nbformat": 4,
 "nbformat_minor": 0
}
